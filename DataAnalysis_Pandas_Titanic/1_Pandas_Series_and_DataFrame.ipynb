{
  "cells": [
    {
      "cell_type": "markdown",
      "metadata": {
        "id": "R4zwQJMczAUk"
      },
      "source": [
        "### Step 1 - Series Data Structure (1D)"
      ]
    },
    {
      "cell_type": "markdown",
      "metadata": {
        "id": "5MZvHIpdzAUk"
      },
      "source": [
        "Create a series data structure called s1 with the following values [10,20,30,40,50,60] and then print it."
      ]
    },
    {
      "cell_type": "code",
      "execution_count": null,
      "metadata": {
        "id": "fWUcbt-kzAUl",
        "outputId": "85625d73-a969-4119-d60a-3c1a5d29889c"
      },
      "outputs": [
        {
          "data": {
            "text/plain": [
              "0    10\n",
              "1    20\n",
              "2    30\n",
              "3    40\n",
              "4    50\n",
              "5    60\n",
              "dtype: int64"
            ]
          },
          "execution_count": 32,
          "metadata": {},
          "output_type": "execute_result"
        }
      ],
      "source": [
        "import pandas as pd\n",
        "s1 = pd.Series([10,20,30,40,50,60])\n",
        "s1"
      ]
    },
    {
      "cell_type": "markdown",
      "metadata": {
        "id": "z8aRjfnFzAUm"
      },
      "source": [
        "Print the left column which is the index."
      ]
    },
    {
      "cell_type": "code",
      "execution_count": null,
      "metadata": {
        "id": "doe9P6PAzAUm",
        "outputId": "8cefee0a-19c6-46e2-bd82-b1a866df8ebf"
      },
      "outputs": [
        {
          "data": {
            "text/plain": [
              "RangeIndex(start=0, stop=6, step=1)"
            ]
          },
          "execution_count": 33,
          "metadata": {},
          "output_type": "execute_result"
        }
      ],
      "source": [
        "s1.index"
      ]
    },
    {
      "cell_type": "markdown",
      "metadata": {
        "id": "szlH1RsFzAUm"
      },
      "source": [
        "Print the type of the second column which is the actual data."
      ]
    },
    {
      "cell_type": "code",
      "execution_count": null,
      "metadata": {
        "id": "EVw2NMGCzAUn",
        "outputId": "c29c6abf-afd0-4251-a2b4-ff26241bfd5d"
      },
      "outputs": [
        {
          "data": {
            "text/plain": [
              "dtype('int64')"
            ]
          },
          "execution_count": 34,
          "metadata": {},
          "output_type": "execute_result"
        }
      ],
      "source": [
        "s1.dtype"
      ]
    },
    {
      "cell_type": "markdown",
      "metadata": {
        "id": "aXLnTy13zAUn"
      },
      "source": [
        "Print the values in index location 3."
      ]
    },
    {
      "cell_type": "code",
      "execution_count": null,
      "metadata": {
        "id": "lXTR_ihwzAUn",
        "outputId": "b106ffab-2c8e-4da4-cb0f-dff12779fa24"
      },
      "outputs": [
        {
          "data": {
            "text/plain": [
              "40"
            ]
          },
          "execution_count": 35,
          "metadata": {},
          "output_type": "execute_result"
        }
      ],
      "source": [
        "s1[3]"
      ]
    },
    {
      "cell_type": "markdown",
      "metadata": {
        "id": "awkqh3LYzAUn"
      },
      "source": [
        "Create a series data structure called s2 with the following values [10,20,30,40,50,60] and with index ['a', 'b', 'c', 'd', 'e', 'f'] then print it."
      ]
    },
    {
      "cell_type": "code",
      "execution_count": null,
      "metadata": {
        "id": "GtNzD1nQzAUn",
        "outputId": "a262c697-1b32-498f-889e-b68f0e6509eb"
      },
      "outputs": [
        {
          "data": {
            "text/plain": [
              "a    10\n",
              "b    20\n",
              "c    30\n",
              "d    40\n",
              "e    50\n",
              "f    60\n",
              "dtype: int64"
            ]
          },
          "execution_count": 36,
          "metadata": {},
          "output_type": "execute_result"
        }
      ],
      "source": [
        "s2 = pd.Series([10,20,30,40,50,60], index=['a','b','c','d','e','f'])\n",
        "s2"
      ]
    },
    {
      "cell_type": "markdown",
      "metadata": {
        "id": "eGWEYtPLzAUo"
      },
      "source": [
        "Print the value in row with the index label 'e'."
      ]
    },
    {
      "cell_type": "code",
      "execution_count": null,
      "metadata": {
        "id": "uTFfhfeDzAUo",
        "outputId": "cc81a65c-9546-4a1a-bffa-0c069040df34"
      },
      "outputs": [
        {
          "data": {
            "text/plain": [
              "50"
            ]
          },
          "execution_count": 37,
          "metadata": {},
          "output_type": "execute_result"
        }
      ],
      "source": [
        "s2['e']"
      ]
    },
    {
      "cell_type": "markdown",
      "metadata": {
        "id": "xsOY3AtLzAUo"
      },
      "source": [
        "Change the value of row with the index label 'e' into 51."
      ]
    },
    {
      "cell_type": "code",
      "execution_count": null,
      "metadata": {
        "id": "uL4orT5ZzAUo"
      },
      "outputs": [],
      "source": [
        "s2['e']=51"
      ]
    },
    {
      "cell_type": "markdown",
      "metadata": {
        "id": "DxYWLXXKzAUo"
      },
      "source": [
        "Print all rows between labels 'b' and 'e' using the slice notation."
      ]
    },
    {
      "cell_type": "code",
      "execution_count": null,
      "metadata": {
        "id": "YrbQ2CIszAUo",
        "outputId": "4b7c6b96-1738-4d07-b9b1-0b25d74500f8"
      },
      "outputs": [
        {
          "data": {
            "text/plain": [
              "b    20\n",
              "c    30\n",
              "d    40\n",
              "e    51\n",
              "dtype: int64"
            ]
          },
          "execution_count": 39,
          "metadata": {},
          "output_type": "execute_result"
        }
      ],
      "source": [
        "s2['b':'e']"
      ]
    },
    {
      "cell_type": "markdown",
      "metadata": {
        "id": "WEx68SQdzAUp"
      },
      "source": [
        "Print all rows between labels 'b' until the end using the slice notation."
      ]
    },
    {
      "cell_type": "code",
      "execution_count": null,
      "metadata": {
        "id": "jCn6M1A-zAUp",
        "outputId": "37501cb3-91ba-45bf-caab-23748c49ff0c"
      },
      "outputs": [
        {
          "data": {
            "text/plain": [
              "b    20\n",
              "c    30\n",
              "d    40\n",
              "e    51\n",
              "f    60\n",
              "dtype: int64"
            ]
          },
          "execution_count": 40,
          "metadata": {},
          "output_type": "execute_result"
        }
      ],
      "source": [
        "s2['b':]"
      ]
    },
    {
      "cell_type": "markdown",
      "metadata": {
        "id": "QNkjhJanzAUp"
      },
      "source": [
        "Add the number 3 to all rows in s2 without using a for-loop."
      ]
    },
    {
      "cell_type": "code",
      "execution_count": null,
      "metadata": {
        "id": "7dMo9WHQzAUp",
        "outputId": "0276bfdc-4df4-49d4-efb6-f354c14073bf"
      },
      "outputs": [
        {
          "data": {
            "text/plain": [
              "a    13\n",
              "b    23\n",
              "c    33\n",
              "d    43\n",
              "e    54\n",
              "f    63\n",
              "dtype: int64"
            ]
          },
          "execution_count": 41,
          "metadata": {},
          "output_type": "execute_result"
        }
      ],
      "source": [
        "s2 = s2 + 3\n",
        "s2"
      ]
    },
    {
      "cell_type": "markdown",
      "metadata": {
        "id": "74-tYxoEzAUp"
      },
      "source": [
        "Check if the value 54 is in s2 without using a for-loop."
      ]
    },
    {
      "cell_type": "code",
      "execution_count": null,
      "metadata": {
        "id": "CZwcrFuVzAUp",
        "outputId": "ddaf84bd-5be7-475a-baa2-88de92e342f8"
      },
      "outputs": [
        {
          "data": {
            "text/plain": [
              "True"
            ]
          },
          "execution_count": 42,
          "metadata": {},
          "output_type": "execute_result"
        }
      ],
      "source": [
        "54 in s2.values"
      ]
    },
    {
      "cell_type": "markdown",
      "metadata": {
        "id": "S-J3TXHgzAUp"
      },
      "source": [
        "Check which values in s2 are greater than 30."
      ]
    },
    {
      "cell_type": "code",
      "execution_count": null,
      "metadata": {
        "id": "YZsZZLJbzAUp",
        "outputId": "ee021870-71df-40f6-c85d-500521826c5c"
      },
      "outputs": [
        {
          "data": {
            "text/plain": [
              "a    False\n",
              "b    False\n",
              "c     True\n",
              "d     True\n",
              "e     True\n",
              "f     True\n",
              "dtype: bool"
            ]
          },
          "execution_count": 44,
          "metadata": {},
          "output_type": "execute_result"
        }
      ],
      "source": [
        "s2 > 30"
      ]
    },
    {
      "cell_type": "markdown",
      "metadata": {
        "id": "R_jDD8oCzAUp"
      },
      "source": [
        "Print the values in s2 that are greater than 30."
      ]
    },
    {
      "cell_type": "code",
      "execution_count": null,
      "metadata": {
        "id": "OL1ecV3FzAUp",
        "outputId": "a73854b7-ac5c-4522-e620-b79bc7c7bb04"
      },
      "outputs": [
        {
          "data": {
            "text/plain": [
              "c    33\n",
              "d    43\n",
              "e    54\n",
              "f    63\n",
              "dtype: int64"
            ]
          },
          "execution_count": 46,
          "metadata": {},
          "output_type": "execute_result"
        }
      ],
      "source": [
        "s2[s2>30]"
      ]
    },
    {
      "cell_type": "markdown",
      "metadata": {
        "id": "qp5Awl52zAUp"
      },
      "source": [
        "print all values in s2 that are greater than the mean value."
      ]
    },
    {
      "cell_type": "code",
      "execution_count": null,
      "metadata": {
        "id": "b29BRnAFzAUp",
        "outputId": "59f946fd-8688-491a-b280-d9ce64a689fc"
      },
      "outputs": [
        {
          "data": {
            "text/plain": [
              "d    43\n",
              "e    54\n",
              "f    63\n",
              "dtype: int64"
            ]
          },
          "execution_count": 47,
          "metadata": {},
          "output_type": "execute_result"
        }
      ],
      "source": [
        "s2[s2>s2.mean()]"
      ]
    },
    {
      "cell_type": "markdown",
      "metadata": {
        "id": "nCiClKjxzAUq"
      },
      "source": [
        "### Step 2 - DataFrame Data Structure (2D)"
      ]
    },
    {
      "cell_type": "markdown",
      "metadata": {
        "id": "LZ7L0-pszAUq"
      },
      "source": [
        "Create a dictionary called dic1 with the following data: {'Name':[ 'David', 'John', 'Marta', 'Dianna'], 'Age':[41,19,33,24],'Weight':[85,76,67,56]} and then create create a dataframe called df from dic1. Print df dataframe."
      ]
    },
    {
      "cell_type": "code",
      "execution_count": null,
      "metadata": {
        "id": "3Di1Ld4TzAUq",
        "outputId": "65a94bdc-6ad4-4de5-8cab-71f9392edbbb"
      },
      "outputs": [
        {
          "data": {
            "text/html": [
              "<div>\n",
              "<style scoped>\n",
              "    .dataframe tbody tr th:only-of-type {\n",
              "        vertical-align: middle;\n",
              "    }\n",
              "\n",
              "    .dataframe tbody tr th {\n",
              "        vertical-align: top;\n",
              "    }\n",
              "\n",
              "    .dataframe thead th {\n",
              "        text-align: right;\n",
              "    }\n",
              "</style>\n",
              "<table border=\"1\" class=\"dataframe\">\n",
              "  <thead>\n",
              "    <tr style=\"text-align: right;\">\n",
              "      <th></th>\n",
              "      <th>Name</th>\n",
              "      <th>Age</th>\n",
              "      <th>Weight</th>\n",
              "    </tr>\n",
              "  </thead>\n",
              "  <tbody>\n",
              "    <tr>\n",
              "      <th>0</th>\n",
              "      <td>David</td>\n",
              "      <td>41</td>\n",
              "      <td>85</td>\n",
              "    </tr>\n",
              "    <tr>\n",
              "      <th>1</th>\n",
              "      <td>John</td>\n",
              "      <td>19</td>\n",
              "      <td>76</td>\n",
              "    </tr>\n",
              "    <tr>\n",
              "      <th>2</th>\n",
              "      <td>Marta</td>\n",
              "      <td>33</td>\n",
              "      <td>67</td>\n",
              "    </tr>\n",
              "    <tr>\n",
              "      <th>3</th>\n",
              "      <td>Dianna</td>\n",
              "      <td>24</td>\n",
              "      <td>56</td>\n",
              "    </tr>\n",
              "  </tbody>\n",
              "</table>\n",
              "</div>"
            ],
            "text/plain": [
              "     Name  Age  Weight\n",
              "0   David   41      85\n",
              "1    John   19      76\n",
              "2   Marta   33      67\n",
              "3  Dianna   24      56"
            ]
          },
          "execution_count": 48,
          "metadata": {},
          "output_type": "execute_result"
        }
      ],
      "source": [
        "import pandas as pd\n",
        "dic1 = {'Name':[ 'David', 'John', 'Marta', 'Dianna'], 'Age':[41,19,33,24],'Weight':[85,76,67,56]}\n",
        "df = pd.DataFrame(dic1)\n",
        "df"
      ]
    },
    {
      "cell_type": "markdown",
      "metadata": {
        "id": "1ABQmZAIzAUq"
      },
      "source": [
        "Print the rows index attribute of df dataframe."
      ]
    },
    {
      "cell_type": "code",
      "execution_count": null,
      "metadata": {
        "id": "DipTD1j9zAUq",
        "outputId": "2b17801f-c83c-4c22-90c5-5084f9121f8c"
      },
      "outputs": [
        {
          "name": "stdout",
          "output_type": "stream",
          "text": [
            "RangeIndex(start=0, stop=4, step=1)\n"
          ]
        }
      ],
      "source": [
        "print(df.index)"
      ]
    },
    {
      "cell_type": "markdown",
      "metadata": {
        "id": "QnrlZg4kzAUq"
      },
      "source": [
        "Print the columns attribute of df dataframe."
      ]
    },
    {
      "cell_type": "code",
      "execution_count": null,
      "metadata": {
        "id": "NlnWZxozzAUq",
        "outputId": "bdcf10e1-df86-4f3a-ab81-17858bb52378"
      },
      "outputs": [
        {
          "name": "stdout",
          "output_type": "stream",
          "text": [
            "Index(['Name', 'Age', 'Weight'], dtype='object')\n"
          ]
        }
      ],
      "source": [
        "print(df.columns)"
      ]
    },
    {
      "cell_type": "markdown",
      "metadata": {
        "id": "5S_Fgnv2zAUq"
      },
      "source": [
        "Print the values attribute of df dataframe."
      ]
    },
    {
      "cell_type": "code",
      "execution_count": null,
      "metadata": {
        "id": "wprvf-xBzAUq",
        "outputId": "1f7b9a9a-062c-4ab2-936b-e2a4e34e3c0f"
      },
      "outputs": [
        {
          "name": "stdout",
          "output_type": "stream",
          "text": [
            "[['David' 41 85]\n",
            " ['John' 19 76]\n",
            " ['Marta' 33 67]\n",
            " ['Dianna' 24 56]]\n"
          ]
        }
      ],
      "source": [
        "print(df.values)"
      ]
    },
    {
      "cell_type": "markdown",
      "metadata": {
        "id": "XyiDp8gUzAUv"
      },
      "source": [
        "Bonus step - can you change the rows index attribute to the following labels: 'R1', 'R2', 'R3', 'R4' and print the df dataframe? (tip - create a list with those new labels and then copy the list into the relevant dataframe attribute)."
      ]
    },
    {
      "cell_type": "code",
      "execution_count": null,
      "metadata": {
        "id": "AuIhY38HzAUv",
        "outputId": "d9dd9018-c116-4e26-d549-45988c61553c"
      },
      "outputs": [
        {
          "data": {
            "text/html": [
              "<div>\n",
              "<style scoped>\n",
              "    .dataframe tbody tr th:only-of-type {\n",
              "        vertical-align: middle;\n",
              "    }\n",
              "\n",
              "    .dataframe tbody tr th {\n",
              "        vertical-align: top;\n",
              "    }\n",
              "\n",
              "    .dataframe thead th {\n",
              "        text-align: right;\n",
              "    }\n",
              "</style>\n",
              "<table border=\"1\" class=\"dataframe\">\n",
              "  <thead>\n",
              "    <tr style=\"text-align: right;\">\n",
              "      <th></th>\n",
              "      <th>Name</th>\n",
              "      <th>Age</th>\n",
              "      <th>Weight</th>\n",
              "    </tr>\n",
              "  </thead>\n",
              "  <tbody>\n",
              "    <tr>\n",
              "      <th>R1</th>\n",
              "      <td>David</td>\n",
              "      <td>41</td>\n",
              "      <td>85</td>\n",
              "    </tr>\n",
              "    <tr>\n",
              "      <th>R2</th>\n",
              "      <td>John</td>\n",
              "      <td>19</td>\n",
              "      <td>76</td>\n",
              "    </tr>\n",
              "    <tr>\n",
              "      <th>R3</th>\n",
              "      <td>Marta</td>\n",
              "      <td>33</td>\n",
              "      <td>67</td>\n",
              "    </tr>\n",
              "    <tr>\n",
              "      <th>R4</th>\n",
              "      <td>Dianna</td>\n",
              "      <td>24</td>\n",
              "      <td>56</td>\n",
              "    </tr>\n",
              "  </tbody>\n",
              "</table>\n",
              "</div>"
            ],
            "text/plain": [
              "      Name  Age  Weight\n",
              "R1   David   41      85\n",
              "R2    John   19      76\n",
              "R3   Marta   33      67\n",
              "R4  Dianna   24      56"
            ]
          },
          "execution_count": 58,
          "metadata": {},
          "output_type": "execute_result"
        }
      ],
      "source": [
        "new_label=['R1', 'R2', 'R3', 'R4']\n",
        "df.index=new_label[:]\n",
        "df"
      ]
    },
    {
      "cell_type": "markdown",
      "metadata": {
        "id": "Jjb3xHx9zAUv"
      },
      "source": [
        "### Step 3 - Data Selection in a DataFrame"
      ]
    },
    {
      "cell_type": "markdown",
      "metadata": {
        "id": "ulyq7BGfzAUv"
      },
      "source": [
        "Create a dictionary called dic1 with the following data: {'Name':[ 'David', 'John', 'Marta', 'Dianna'], 'Age':[41,19,33,24],'Weight':[85,76,67,56]} and then create create a dataframe called df from dic1 with the following rows index ['a','b','c','d']. Print the dataframe."
      ]
    },
    {
      "cell_type": "code",
      "execution_count": null,
      "metadata": {
        "id": "W2uWLIaZzAUv",
        "outputId": "4a2b0ce9-bbce-4187-c0a2-f71a3e4edce8"
      },
      "outputs": [
        {
          "data": {
            "text/html": [
              "<div>\n",
              "<style scoped>\n",
              "    .dataframe tbody tr th:only-of-type {\n",
              "        vertical-align: middle;\n",
              "    }\n",
              "\n",
              "    .dataframe tbody tr th {\n",
              "        vertical-align: top;\n",
              "    }\n",
              "\n",
              "    .dataframe thead th {\n",
              "        text-align: right;\n",
              "    }\n",
              "</style>\n",
              "<table border=\"1\" class=\"dataframe\">\n",
              "  <thead>\n",
              "    <tr style=\"text-align: right;\">\n",
              "      <th></th>\n",
              "      <th>Name</th>\n",
              "      <th>Age</th>\n",
              "      <th>Weight</th>\n",
              "    </tr>\n",
              "  </thead>\n",
              "  <tbody>\n",
              "    <tr>\n",
              "      <th>a</th>\n",
              "      <td>David</td>\n",
              "      <td>41</td>\n",
              "      <td>85</td>\n",
              "    </tr>\n",
              "    <tr>\n",
              "      <th>b</th>\n",
              "      <td>John</td>\n",
              "      <td>19</td>\n",
              "      <td>76</td>\n",
              "    </tr>\n",
              "    <tr>\n",
              "      <th>c</th>\n",
              "      <td>Marta</td>\n",
              "      <td>33</td>\n",
              "      <td>67</td>\n",
              "    </tr>\n",
              "    <tr>\n",
              "      <th>d</th>\n",
              "      <td>Dianna</td>\n",
              "      <td>24</td>\n",
              "      <td>56</td>\n",
              "    </tr>\n",
              "  </tbody>\n",
              "</table>\n",
              "</div>"
            ],
            "text/plain": [
              "     Name  Age  Weight\n",
              "a   David   41      85\n",
              "b    John   19      76\n",
              "c   Marta   33      67\n",
              "d  Dianna   24      56"
            ]
          },
          "execution_count": 73,
          "metadata": {},
          "output_type": "execute_result"
        }
      ],
      "source": [
        "dic1 = {'Name':[ 'David', 'John', 'Marta', 'Dianna'], 'Age':[41,19,33,24],'Weight':[85,76,67,56]}\n",
        "df = pd.DataFrame(dic1, index=['a','b','c','d'])\n",
        "df"
      ]
    },
    {
      "cell_type": "markdown",
      "metadata": {
        "id": "sjBAIV-ezAUv"
      },
      "source": [
        "Print the 'Name' column using the dot notation."
      ]
    },
    {
      "cell_type": "code",
      "execution_count": null,
      "metadata": {
        "id": "WojYRUkFzAUv",
        "outputId": "cc5c1d54-1a43-41d6-de75-97430fa94817"
      },
      "outputs": [
        {
          "data": {
            "text/plain": [
              "a     David\n",
              "b      John\n",
              "c     Marta\n",
              "d    Dianna\n",
              "Name: Name, dtype: object"
            ]
          },
          "execution_count": 74,
          "metadata": {},
          "output_type": "execute_result"
        }
      ],
      "source": [
        "df.Name"
      ]
    },
    {
      "cell_type": "markdown",
      "metadata": {
        "id": "riPaIBF0zAUv"
      },
      "source": [
        "Print the 'Name' and 'Age' columns using square brackets."
      ]
    },
    {
      "cell_type": "code",
      "execution_count": null,
      "metadata": {
        "id": "PJ6wKPGZzAUv",
        "outputId": "53b727bc-5519-45d8-e1e5-c5cf0aeec1b9"
      },
      "outputs": [
        {
          "data": {
            "text/html": [
              "<div>\n",
              "<style scoped>\n",
              "    .dataframe tbody tr th:only-of-type {\n",
              "        vertical-align: middle;\n",
              "    }\n",
              "\n",
              "    .dataframe tbody tr th {\n",
              "        vertical-align: top;\n",
              "    }\n",
              "\n",
              "    .dataframe thead th {\n",
              "        text-align: right;\n",
              "    }\n",
              "</style>\n",
              "<table border=\"1\" class=\"dataframe\">\n",
              "  <thead>\n",
              "    <tr style=\"text-align: right;\">\n",
              "      <th></th>\n",
              "      <th>Name</th>\n",
              "      <th>Age</th>\n",
              "    </tr>\n",
              "  </thead>\n",
              "  <tbody>\n",
              "    <tr>\n",
              "      <th>a</th>\n",
              "      <td>David</td>\n",
              "      <td>41</td>\n",
              "    </tr>\n",
              "    <tr>\n",
              "      <th>b</th>\n",
              "      <td>John</td>\n",
              "      <td>19</td>\n",
              "    </tr>\n",
              "    <tr>\n",
              "      <th>c</th>\n",
              "      <td>Marta</td>\n",
              "      <td>33</td>\n",
              "    </tr>\n",
              "    <tr>\n",
              "      <th>d</th>\n",
              "      <td>Dianna</td>\n",
              "      <td>24</td>\n",
              "    </tr>\n",
              "  </tbody>\n",
              "</table>\n",
              "</div>"
            ],
            "text/plain": [
              "     Name  Age\n",
              "a   David   41\n",
              "b    John   19\n",
              "c   Marta   33\n",
              "d  Dianna   24"
            ]
          },
          "execution_count": 75,
          "metadata": {},
          "output_type": "execute_result"
        }
      ],
      "source": [
        "df[['Name', 'Age']]"
      ]
    },
    {
      "cell_type": "markdown",
      "metadata": {
        "id": "Y3O-2SPxzAUv"
      },
      "source": [
        "Print the type of object returned by selecting the 'Name' column using square brackets."
      ]
    },
    {
      "cell_type": "code",
      "execution_count": null,
      "metadata": {
        "id": "8W_E2lL2zAUv",
        "outputId": "dfba18eb-e3a9-4ffd-a2e8-b0bd779f5d57"
      },
      "outputs": [
        {
          "data": {
            "text/plain": [
              "pandas.core.series.Series"
            ]
          },
          "execution_count": 78,
          "metadata": {},
          "output_type": "execute_result"
        }
      ],
      "source": [
        "type(df['Name'])"
      ]
    },
    {
      "cell_type": "markdown",
      "metadata": {
        "id": "G91FebBIzAUv"
      },
      "source": [
        "Print the type of object returned by selecting the 'Name' and 'Age' columns using square brackets."
      ]
    },
    {
      "cell_type": "code",
      "execution_count": null,
      "metadata": {
        "id": "pKDez1pwzAUw",
        "outputId": "21333c12-b2e3-452d-c156-0a0a42c6d1c1"
      },
      "outputs": [
        {
          "data": {
            "text/plain": [
              "pandas.core.frame.DataFrame"
            ]
          },
          "execution_count": 76,
          "metadata": {},
          "output_type": "execute_result"
        }
      ],
      "source": [
        "type(df[['Name', 'Age']])"
      ]
    },
    {
      "cell_type": "markdown",
      "metadata": {
        "id": "J8g-JuNMzAUw"
      },
      "source": [
        "Print the rows starting in index location 0 and ending in index location 2."
      ]
    },
    {
      "cell_type": "code",
      "execution_count": null,
      "metadata": {
        "id": "GL2GQ6ExzAUw",
        "outputId": "8f36aad2-2ec8-4c58-ff88-fb056fe0113f"
      },
      "outputs": [
        {
          "data": {
            "text/html": [
              "<div>\n",
              "<style scoped>\n",
              "    .dataframe tbody tr th:only-of-type {\n",
              "        vertical-align: middle;\n",
              "    }\n",
              "\n",
              "    .dataframe tbody tr th {\n",
              "        vertical-align: top;\n",
              "    }\n",
              "\n",
              "    .dataframe thead th {\n",
              "        text-align: right;\n",
              "    }\n",
              "</style>\n",
              "<table border=\"1\" class=\"dataframe\">\n",
              "  <thead>\n",
              "    <tr style=\"text-align: right;\">\n",
              "      <th></th>\n",
              "      <th>Name</th>\n",
              "      <th>Age</th>\n",
              "      <th>Weight</th>\n",
              "    </tr>\n",
              "  </thead>\n",
              "  <tbody>\n",
              "    <tr>\n",
              "      <th>a</th>\n",
              "      <td>David</td>\n",
              "      <td>41</td>\n",
              "      <td>85</td>\n",
              "    </tr>\n",
              "    <tr>\n",
              "      <th>b</th>\n",
              "      <td>John</td>\n",
              "      <td>19</td>\n",
              "      <td>76</td>\n",
              "    </tr>\n",
              "    <tr>\n",
              "      <th>c</th>\n",
              "      <td>Marta</td>\n",
              "      <td>33</td>\n",
              "      <td>67</td>\n",
              "    </tr>\n",
              "  </tbody>\n",
              "</table>\n",
              "</div>"
            ],
            "text/plain": [
              "    Name  Age  Weight\n",
              "a  David   41      85\n",
              "b   John   19      76\n",
              "c  Marta   33      67"
            ]
          },
          "execution_count": 77,
          "metadata": {},
          "output_type": "execute_result"
        }
      ],
      "source": [
        "df[:3]"
      ]
    },
    {
      "cell_type": "markdown",
      "metadata": {
        "id": "oM16CGODzAUw"
      },
      "source": [
        "Print all rows with columns 'Name' and 'Age' while using the loc method."
      ]
    },
    {
      "cell_type": "code",
      "execution_count": null,
      "metadata": {
        "id": "YYT8GEQIzAUw",
        "outputId": "2b3cb4da-cbb6-4643-e07e-31dba36652e7"
      },
      "outputs": [
        {
          "data": {
            "text/html": [
              "<div>\n",
              "<style scoped>\n",
              "    .dataframe tbody tr th:only-of-type {\n",
              "        vertical-align: middle;\n",
              "    }\n",
              "\n",
              "    .dataframe tbody tr th {\n",
              "        vertical-align: top;\n",
              "    }\n",
              "\n",
              "    .dataframe thead th {\n",
              "        text-align: right;\n",
              "    }\n",
              "</style>\n",
              "<table border=\"1\" class=\"dataframe\">\n",
              "  <thead>\n",
              "    <tr style=\"text-align: right;\">\n",
              "      <th></th>\n",
              "      <th>Name</th>\n",
              "      <th>Age</th>\n",
              "    </tr>\n",
              "  </thead>\n",
              "  <tbody>\n",
              "    <tr>\n",
              "      <th>a</th>\n",
              "      <td>David</td>\n",
              "      <td>41</td>\n",
              "    </tr>\n",
              "    <tr>\n",
              "      <th>b</th>\n",
              "      <td>John</td>\n",
              "      <td>19</td>\n",
              "    </tr>\n",
              "    <tr>\n",
              "      <th>c</th>\n",
              "      <td>Marta</td>\n",
              "      <td>33</td>\n",
              "    </tr>\n",
              "    <tr>\n",
              "      <th>d</th>\n",
              "      <td>Dianna</td>\n",
              "      <td>24</td>\n",
              "    </tr>\n",
              "  </tbody>\n",
              "</table>\n",
              "</div>"
            ],
            "text/plain": [
              "     Name  Age\n",
              "a   David   41\n",
              "b    John   19\n",
              "c   Marta   33\n",
              "d  Dianna   24"
            ]
          },
          "execution_count": 79,
          "metadata": {},
          "output_type": "execute_result"
        }
      ],
      "source": [
        "df.loc[: , ['Name', 'Age']]"
      ]
    },
    {
      "cell_type": "markdown",
      "metadata": {
        "id": "xkmu3i9azAUw"
      },
      "source": [
        "Print rows  with labels 'a' and 'd' with columns 'Name' and 'Age' while using the loc method."
      ]
    },
    {
      "cell_type": "code",
      "execution_count": null,
      "metadata": {
        "id": "XHWwdFcbzAUw",
        "outputId": "880df700-d523-4053-b7dd-53a698e99869"
      },
      "outputs": [
        {
          "data": {
            "text/html": [
              "<div>\n",
              "<style scoped>\n",
              "    .dataframe tbody tr th:only-of-type {\n",
              "        vertical-align: middle;\n",
              "    }\n",
              "\n",
              "    .dataframe tbody tr th {\n",
              "        vertical-align: top;\n",
              "    }\n",
              "\n",
              "    .dataframe thead th {\n",
              "        text-align: right;\n",
              "    }\n",
              "</style>\n",
              "<table border=\"1\" class=\"dataframe\">\n",
              "  <thead>\n",
              "    <tr style=\"text-align: right;\">\n",
              "      <th></th>\n",
              "      <th>Name</th>\n",
              "      <th>Age</th>\n",
              "    </tr>\n",
              "  </thead>\n",
              "  <tbody>\n",
              "    <tr>\n",
              "      <th>a</th>\n",
              "      <td>David</td>\n",
              "      <td>41</td>\n",
              "    </tr>\n",
              "    <tr>\n",
              "      <th>d</th>\n",
              "      <td>Dianna</td>\n",
              "      <td>24</td>\n",
              "    </tr>\n",
              "  </tbody>\n",
              "</table>\n",
              "</div>"
            ],
            "text/plain": [
              "     Name  Age\n",
              "a   David   41\n",
              "d  Dianna   24"
            ]
          },
          "execution_count": 80,
          "metadata": {},
          "output_type": "execute_result"
        }
      ],
      "source": [
        "df.loc[['a', 'd'], ['Name', 'Age']]"
      ]
    },
    {
      "cell_type": "markdown",
      "metadata": {
        "id": "acriSBf8zAUw"
      },
      "source": [
        "Print the row in index location 2 using the iloc method."
      ]
    },
    {
      "cell_type": "code",
      "execution_count": null,
      "metadata": {
        "id": "Szf5PXD9zAUw",
        "outputId": "b83c33a9-c71e-4a7d-9282-e92753393a33"
      },
      "outputs": [
        {
          "data": {
            "text/plain": [
              "Name      John\n",
              "Age         19\n",
              "Weight      76\n",
              "Name: b, dtype: object"
            ]
          },
          "execution_count": 81,
          "metadata": {},
          "output_type": "execute_result"
        }
      ],
      "source": [
        "df.iloc[1, :]"
      ]
    },
    {
      "cell_type": "markdown",
      "metadata": {
        "id": "IH2Ivk-lzAUw"
      },
      "source": [
        "Print the rows in index locations 1,2 and 3 using the iloc method."
      ]
    },
    {
      "cell_type": "code",
      "execution_count": null,
      "metadata": {
        "id": "vE2gtKWUzAUw",
        "outputId": "329c1814-0960-4df6-a46d-89c36e1e7807"
      },
      "outputs": [
        {
          "data": {
            "text/html": [
              "<div>\n",
              "<style scoped>\n",
              "    .dataframe tbody tr th:only-of-type {\n",
              "        vertical-align: middle;\n",
              "    }\n",
              "\n",
              "    .dataframe tbody tr th {\n",
              "        vertical-align: top;\n",
              "    }\n",
              "\n",
              "    .dataframe thead th {\n",
              "        text-align: right;\n",
              "    }\n",
              "</style>\n",
              "<table border=\"1\" class=\"dataframe\">\n",
              "  <thead>\n",
              "    <tr style=\"text-align: right;\">\n",
              "      <th></th>\n",
              "      <th>Name</th>\n",
              "      <th>Age</th>\n",
              "      <th>Weight</th>\n",
              "    </tr>\n",
              "  </thead>\n",
              "  <tbody>\n",
              "    <tr>\n",
              "      <th>b</th>\n",
              "      <td>John</td>\n",
              "      <td>19</td>\n",
              "      <td>76</td>\n",
              "    </tr>\n",
              "    <tr>\n",
              "      <th>c</th>\n",
              "      <td>Marta</td>\n",
              "      <td>33</td>\n",
              "      <td>67</td>\n",
              "    </tr>\n",
              "    <tr>\n",
              "      <th>d</th>\n",
              "      <td>Dianna</td>\n",
              "      <td>24</td>\n",
              "      <td>56</td>\n",
              "    </tr>\n",
              "  </tbody>\n",
              "</table>\n",
              "</div>"
            ],
            "text/plain": [
              "     Name  Age  Weight\n",
              "b    John   19      76\n",
              "c   Marta   33      67\n",
              "d  Dianna   24      56"
            ]
          },
          "execution_count": 82,
          "metadata": {},
          "output_type": "execute_result"
        }
      ],
      "source": [
        "df.iloc[[1,2,3], :]"
      ]
    },
    {
      "cell_type": "markdown",
      "metadata": {
        "id": "tkEsRJ5MzAUw"
      },
      "source": [
        "Print the rows in index locations 1,2 and 3 and columns in index locations 0 to 1 using the iloc method."
      ]
    },
    {
      "cell_type": "code",
      "execution_count": null,
      "metadata": {
        "id": "mwdBbIr3zAUw",
        "outputId": "90a63eff-f20a-46f1-e1e7-b4c93ba1176a"
      },
      "outputs": [
        {
          "data": {
            "text/html": [
              "<div>\n",
              "<style scoped>\n",
              "    .dataframe tbody tr th:only-of-type {\n",
              "        vertical-align: middle;\n",
              "    }\n",
              "\n",
              "    .dataframe tbody tr th {\n",
              "        vertical-align: top;\n",
              "    }\n",
              "\n",
              "    .dataframe thead th {\n",
              "        text-align: right;\n",
              "    }\n",
              "</style>\n",
              "<table border=\"1\" class=\"dataframe\">\n",
              "  <thead>\n",
              "    <tr style=\"text-align: right;\">\n",
              "      <th></th>\n",
              "      <th>Name</th>\n",
              "      <th>Age</th>\n",
              "    </tr>\n",
              "  </thead>\n",
              "  <tbody>\n",
              "    <tr>\n",
              "      <th>b</th>\n",
              "      <td>John</td>\n",
              "      <td>19</td>\n",
              "    </tr>\n",
              "    <tr>\n",
              "      <th>c</th>\n",
              "      <td>Marta</td>\n",
              "      <td>33</td>\n",
              "    </tr>\n",
              "    <tr>\n",
              "      <th>d</th>\n",
              "      <td>Dianna</td>\n",
              "      <td>24</td>\n",
              "    </tr>\n",
              "  </tbody>\n",
              "</table>\n",
              "</div>"
            ],
            "text/plain": [
              "     Name  Age\n",
              "b    John   19\n",
              "c   Marta   33\n",
              "d  Dianna   24"
            ]
          },
          "execution_count": 84,
          "metadata": {},
          "output_type": "execute_result"
        }
      ],
      "source": [
        "df.iloc[[1,2,3], [0,1]]"
      ]
    }
  ],
  "metadata": {
    "kernelspec": {
      "display_name": "Python 3",
      "language": "python",
      "name": "python3"
    },
    "language_info": {
      "codemirror_mode": {
        "name": "ipython",
        "version": 3
      },
      "file_extension": ".py",
      "mimetype": "text/x-python",
      "name": "python",
      "nbconvert_exporter": "python",
      "pygments_lexer": "ipython3",
      "version": "3.7.6"
    },
    "colab": {
      "provenance": []
    }
  },
  "nbformat": 4,
  "nbformat_minor": 0
}